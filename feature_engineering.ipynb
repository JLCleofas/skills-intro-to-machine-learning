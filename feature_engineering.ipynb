{
 "cells": [
  {
   "cell_type": "code",
   "execution_count": 1,
   "id": "6941522b",
   "metadata": {},
   "outputs": [],
   "source": [
    "import pandas as pd\n",
    "\n",
    "dates = [\n",
    "  '03/01/2021',\n",
    "  '17/02/2020',\n",
    "  '25/03/2019',\n",
    "  '08/04/2022',\n",
    "  '14/05/2018',\n",
    "  '29/06/2023',\n",
    "  '10/07/2020',\n",
    "  '22/08/2021',\n",
    "  '05/09/2017',\n",
    "  '31/10/2024'\n",
    "]\n",
    "\n",
    "df = pd.DataFrame({'date': dates})\n",
    "\n"
   ]
  },
  {
   "cell_type": "code",
   "execution_count": 2,
   "id": "934b552a",
   "metadata": {},
   "outputs": [],
   "source": [
    "# Extract the month using string slicing\n",
    "df['month'] = df['date'].str[3:5]"
   ]
  },
  {
   "cell_type": "code",
   "execution_count": 3,
   "id": "b072d27f",
   "metadata": {},
   "outputs": [
    {
     "data": {
      "text/plain": [
       "0    01\n",
       "1    02\n",
       "2    03\n",
       "3    04\n",
       "4    05\n",
       "5    06\n",
       "6    07\n",
       "7    08\n",
       "8    09\n",
       "9    10\n",
       "Name: month, dtype: object"
      ]
     },
     "execution_count": 3,
     "metadata": {},
     "output_type": "execute_result"
    }
   ],
   "source": [
    "df['month']"
   ]
  },
  {
   "cell_type": "code",
   "execution_count": 4,
   "id": "b44fff8e",
   "metadata": {},
   "outputs": [],
   "source": [
    "df['year'] = df['date'].str[6:10]"
   ]
  },
  {
   "cell_type": "code",
   "execution_count": 5,
   "id": "9e00cf1f",
   "metadata": {},
   "outputs": [
    {
     "data": {
      "text/plain": [
       "0    2021\n",
       "1    2020\n",
       "2    2019\n",
       "3    2022\n",
       "4    2018\n",
       "5    2023\n",
       "6    2020\n",
       "7    2021\n",
       "8    2017\n",
       "9    2024\n",
       "Name: year, dtype: object"
      ]
     },
     "execution_count": 5,
     "metadata": {},
     "output_type": "execute_result"
    }
   ],
   "source": [
    "df['year']"
   ]
  },
  {
   "cell_type": "code",
   "execution_count": null,
   "id": "43f27876",
   "metadata": {},
   "outputs": [],
   "source": []
  }
 ],
 "metadata": {
  "kernelspec": {
   "display_name": ".venv (3.14.0)",
   "language": "python",
   "name": "python3"
  },
  "language_info": {
   "codemirror_mode": {
    "name": "ipython",
    "version": 3
   },
   "file_extension": ".py",
   "mimetype": "text/x-python",
   "name": "python",
   "nbconvert_exporter": "python",
   "pygments_lexer": "ipython3",
   "version": "3.14.0"
  }
 },
 "nbformat": 4,
 "nbformat_minor": 5
}
